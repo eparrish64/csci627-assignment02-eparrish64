{
 "cells": [
  {
   "cell_type": "markdown",
   "metadata": {},
   "source": [
    "# Assignment02 - Python and Plotting\n",
    "\n",
    "This assignment will explore the plotting capabilites of python. It will be using the following data:\n",
    "- `london-rain-clean.csv` from assignment01 (you will need to add it to the repository or read from your assignment01 directory)\n",
    "- `temperature.csv` included in repository\n",
    "\n",
    "It is assumed that you have removed any data with missing values in `london-rain-clean.csv` but that does not mean the data is free of errors."
   ]
  },
  {
   "cell_type": "markdown",
   "metadata": {},
   "source": [
    "- <span style=\"color:red\">**Convert the following cell to markdown and write a few sentances about what could be other sources of error in the dataset.**</span>"
   ]
  },
  {
   "cell_type": "code",
   "execution_count": null,
   "metadata": {},
   "outputs": [],
   "source": []
  },
  {
   "cell_type": "markdown",
   "metadata": {},
   "source": [
    "- <span style=\"color:red\">**Write the required python code to load the `london-rain-clean.csv` data.**</span>"
   ]
  },
  {
   "cell_type": "code",
   "execution_count": null,
   "metadata": {},
   "outputs": [],
   "source": []
  },
  {
   "cell_type": "markdown",
   "metadata": {},
   "source": [
    "- <span style=\"color:red\">**Write the required python code to produce a simple plot, this should be one line of python code in your jupyter cell, plus some magic.**</span>"
   ]
  },
  {
   "cell_type": "code",
   "execution_count": null,
   "metadata": {},
   "outputs": [],
   "source": []
  },
  {
   "cell_type": "markdown",
   "metadata": {},
   "source": [
    "- <span style=\"color:red\">**Write a short summary of what you see and what initial thoughts you have about the data. (You will need to convert the cell below to a markdown cell)**</span>"
   ]
  },
  {
   "cell_type": "code",
   "execution_count": null,
   "metadata": {},
   "outputs": [],
   "source": []
  },
  {
   "cell_type": "markdown",
   "metadata": {},
   "source": [
    "Detection of outliers is an art and there is no set standard method as it is very data dependent.  For the purpose of this assignment, you will be looking at rainfall data and you bring a basic understanding of how rain works, what is reasonable and what is not. We will use 2 standard deviations from the mean as our first filter point."
   ]
  },
  {
   "cell_type": "markdown",
   "metadata": {},
   "source": [
    "- <span style=\"color:red\">**Write the required python code to calculate the mean and standard deviation for the *value* variable from the rain dataset.**</span>"
   ]
  },
  {
   "cell_type": "code",
   "execution_count": null,
   "metadata": {},
   "outputs": [],
   "source": []
  },
  {
   "cell_type": "markdown",
   "metadata": {},
   "source": [
    "- <span style=\"color:red\">**Write the required python code to calculate the lower and upper bounds of values that is 2 standard deviations from the mean.**</span>\n",
    "\n",
    "$$ lower = rainMean - (2 * rainStd) $$\n",
    "$$ upper = rainMean + (2 * rainStd) $$"
   ]
  },
  {
   "cell_type": "code",
   "execution_count": null,
   "metadata": {},
   "outputs": [],
   "source": []
  },
  {
   "cell_type": "markdown",
   "metadata": {},
   "source": [
    "- <span style=\"color:red\">**Write the required python code to plot rain values with data filtered out using your lower and upper bounds.**</span>"
   ]
  },
  {
   "cell_type": "code",
   "execution_count": null,
   "metadata": {},
   "outputs": [],
   "source": []
  },
  {
   "cell_type": "markdown",
   "metadata": {},
   "source": [
    "- <span style=\"color:red\">**Write a short summary of what you see and your revised thoughts about the data. Does the data seem more reasonable now that you have filtered the data? (You will need to convert the cell below to a markdown cell)**</span>"
   ]
  },
  {
   "cell_type": "code",
   "execution_count": null,
   "metadata": {},
   "outputs": [],
   "source": []
  },
  {
   "cell_type": "markdown",
   "metadata": {},
   "source": [
    "- <span style=\"color:red\">**Modify your python code to increase the size of your figure to (20,10).**</span>"
   ]
  },
  {
   "cell_type": "code",
   "execution_count": null,
   "metadata": {},
   "outputs": [],
   "source": []
  },
  {
   "cell_type": "markdown",
   "metadata": {},
   "source": [
    "- <span style=\"color:red\">**If the larger graph helps you see anything new in your data, write a short summary (you will need to convert the cell below to a markdown cell), if not leave the cell blank.**</span>"
   ]
  },
  {
   "cell_type": "code",
   "execution_count": null,
   "metadata": {},
   "outputs": [],
   "source": []
  },
  {
   "cell_type": "markdown",
   "metadata": {},
   "source": [
    "- <span style=\"color:red\">**If you are happy with your visualization, then we can move on, if not modify your code one last time to fix any other concerns you may have in terms of data values captured in the visualization that should not be there.**</span>"
   ]
  },
  {
   "cell_type": "code",
   "execution_count": null,
   "metadata": {},
   "outputs": [],
   "source": []
  },
  {
   "cell_type": "markdown",
   "metadata": {},
   "source": [
    "Please note, this is **not a final visualization** of the London rain data, there are numerous things still wrong with the graph if you followed the directions, the graph will be missing title, labels and even the bars are somewhat misleading. This assignment was intended to introduce you to the use of graphing in debugging/cleaning of your data.\n",
    "\n",
    "We will now switch to a clean dataset for rest of the lesson.  You do not need to worry about data quality here, this portion of the assigment will focus on ensuring you understand how to code for additional required components in a final visualization."
   ]
  },
  {
   "cell_type": "markdown",
   "metadata": {},
   "source": [
    "- <span style=\"color:red\">**Write the needed python code to load the `temperature.csv` file into a pandas dataframe.**</span>"
   ]
  },
  {
   "cell_type": "code",
   "execution_count": null,
   "metadata": {},
   "outputs": [],
   "source": []
  },
  {
   "cell_type": "markdown",
   "metadata": {},
   "source": [
    "- <span style=\"color:red\">**Write the needed python code to plot the temperature of the dataframe. You should be able to do this in a single line of python code.**</span>"
   ]
  },
  {
   "cell_type": "code",
   "execution_count": null,
   "metadata": {},
   "outputs": [],
   "source": []
  },
  {
   "cell_type": "markdown",
   "metadata": {},
   "source": [
    "- <span style=\"color:red\">**Convert the following cell to markdown and describe what you see and any issues you have with this initial visualization.**</span>"
   ]
  },
  {
   "cell_type": "code",
   "execution_count": null,
   "metadata": {},
   "outputs": [],
   "source": []
  },
  {
   "cell_type": "markdown",
   "metadata": {},
   "source": [
    "- <span style=\"color:red\">**Write the needed python code to plot the temperature values of a single node from the dataframe. You should be able to do this in a single line of python code.**</span>"
   ]
  },
  {
   "cell_type": "code",
   "execution_count": null,
   "metadata": {},
   "outputs": [],
   "source": []
  },
  {
   "cell_type": "markdown",
   "metadata": {},
   "source": [
    "- <span style=\"color:red\">**Convert the following cell to markdown and describe what new insight you have gained about the `temperature.csv` dataset.**</span>"
   ]
  },
  {
   "cell_type": "code",
   "execution_count": null,
   "metadata": {},
   "outputs": [],
   "source": []
  },
  {
   "cell_type": "markdown",
   "metadata": {},
   "source": [
    "- <span style=\"color:red\">**You are now assigned the task of producing a single visualization of a node from the temperature.csv dataset, write the needed python code to produce a visualization that is (20, 10) in size, you only need to worry about producing the visualization in the next cell, addtional components such as title and labels will follow in future questions.**</span> (Hint: This will require more code than past plots and you need to think about the final visualization in terms of what is useful to your viewer in understanding the data. Again don't worry about titles and labels at this point.)"
   ]
  },
  {
   "cell_type": "code",
   "execution_count": null,
   "metadata": {},
   "outputs": [],
   "source": []
  },
  {
   "cell_type": "markdown",
   "metadata": {},
   "source": [
    "- <span style=\"color:red\">**Write the needed python code to add the following title \"Temperature Values for Node &lt;node used in visualization&gt;\" to your previous plot.**</span>"
   ]
  },
  {
   "cell_type": "code",
   "execution_count": null,
   "metadata": {},
   "outputs": [],
   "source": []
  },
  {
   "cell_type": "markdown",
   "metadata": {},
   "source": [
    "- <span style=\"color:red\">**Write the needed python code to add the following labels \"Temperature (C)\" to your y-axis and the appropriate label to your x-axis code from previous plot.**</span>"
   ]
  },
  {
   "cell_type": "code",
   "execution_count": null,
   "metadata": {},
   "outputs": [],
   "source": []
  },
  {
   "cell_type": "markdown",
   "metadata": {},
   "source": [
    "- <span style=\"color:red\">**The plot should nearly be complete now, using the code from your previous plot, write the needed python code to remove the legend.**</span>"
   ]
  },
  {
   "cell_type": "code",
   "execution_count": null,
   "metadata": {},
   "outputs": [],
   "source": []
  },
  {
   "cell_type": "markdown",
   "metadata": {},
   "source": [
    "- <span style=\"color:red\">**Using your code from your final plot above, add the needed python code to save the final visualization to a PNG file with the filename \"FinalVis\".**</span>"
   ]
  },
  {
   "cell_type": "code",
   "execution_count": null,
   "metadata": {},
   "outputs": [],
   "source": []
  },
  {
   "cell_type": "markdown",
   "metadata": {},
   "source": [
    "- <span style=\"color:red\">**BONUS QUESTION: Write the required python code to display the temperature value for all the nodes on a single plot. Hint: Use the alpha component to make lines semi-transparent to help with readability (alpha=0.05)**</span>"
   ]
  }
 ],
 "metadata": {
  "kernelspec": {
   "display_name": "Python 3",
   "language": "python",
   "name": "python3"
  },
  "language_info": {
   "codemirror_mode": {
    "name": "ipython",
    "version": 3
   },
   "file_extension": ".py",
   "mimetype": "text/x-python",
   "name": "python",
   "nbconvert_exporter": "python",
   "pygments_lexer": "ipython3",
   "version": "3.6.6"
  }
 },
 "nbformat": 4,
 "nbformat_minor": 2
}
